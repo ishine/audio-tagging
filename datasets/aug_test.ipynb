{
 "cells": [
  {
   "cell_type": "code",
   "execution_count": null,
   "metadata": {},
   "outputs": [],
   "source": [
    "import torch\n",
    "import torchaudio\n",
    "from torchaudio import transforms as T\n",
    "from torchaudio import functional as AF\n",
    "from transforms import *\n",
    "import sys\n",
    "sys.path.insert(0, '../')\n",
    "from utils.visualize import play_audio, plot_spectrogram"
   ]
  },
  {
   "cell_type": "code",
   "execution_count": null,
   "metadata": {},
   "outputs": [],
   "source": [
    "audio_path = '../assests/test.wav'\n",
    "noise_path = '../assests/noises/voices.wav'\n",
    "\n",
    "sample_rate = 32000\n",
    "audio_length = 5   # 5s\n",
    "audio, sr = torchaudio.load(audio_path)\n",
    "noise, sr1 = torchaudio.load(noise_path)\n",
    "\n",
    "if sr != sample_rate: audio = AF.resample(audio, sr, sample_rate)\n",
    "if audio.shape[0] != 1: audio = audio[:1]\n",
    "if audio.shape[1]!= sample_rate*audio_length: audio = audio[:, :sample_rate*audio_length]\n",
    "if sr1 != sample_rate: noise = AF.resample(noise, sr1, sample_rate)"
   ]
  },
  {
   "cell_type": "code",
   "execution_count": null,
   "metadata": {},
   "outputs": [],
   "source": [
    "play_audio(audio, sample_rate)\n",
    "play_audio(noise, sample_rate)"
   ]
  },
  {
   "cell_type": "markdown",
   "metadata": {},
   "source": [
    "## WaveForm Augmentations"
   ]
  },
  {
   "cell_type": "code",
   "execution_count": null,
   "metadata": {},
   "outputs": [],
   "source": [
    "## Background Noise\n",
    "background_noise = BackgroundNoise(3) #20(weak)~3(strong)\n",
    "noise_audio = background_noise(audio, noise)\n",
    "play_audio(noise_audio, sample_rate)"
   ]
  },
  {
   "cell_type": "code",
   "execution_count": null,
   "metadata": {},
   "outputs": [],
   "source": [
    "# Fade In/Out\n",
    "fade = Fade(0.1) # 0.1(10% of audio)~0.5(50% of audio)\n",
    "fade_audio = fade(audio)\n",
    "play_audio(fade_audio, sample_rate)"
   ]
  },
  {
   "cell_type": "code",
   "execution_count": null,
   "metadata": {},
   "outputs": [],
   "source": [
    "# Add Volume\n",
    "volume = Volume(20) # 3(weak)~20(strong)\n",
    "vol_audio = volume(audio)\n",
    "play_audio(vol_audio, sample_rate)"
   ]
  },
  {
   "cell_type": "code",
   "execution_count": null,
   "metadata": {},
   "outputs": [],
   "source": [
    "# Gaussian Noise\n",
    "gnoise = GaussianNoise(0.005) # 0.005(weak)~0.02(strong)\n",
    "gnoise_audio = gnoise(audio)\n",
    "play_audio(gnoise_audio, sample_rate)"
   ]
  },
  {
   "cell_type": "markdown",
   "metadata": {},
   "source": [
    "## Spectrogram Augmentations"
   ]
  },
  {
   "cell_type": "code",
   "execution_count": null,
   "metadata": {},
   "outputs": [],
   "source": [
    "sample_rate = 32000\n",
    "win_length = 1024\n",
    "hop_length = 320\n",
    "n_mels = 64\n",
    "fmin = 50\n",
    "fmax = 14000\n",
    "audio_length = 5\n",
    "\n",
    "mel_tf = T.MelSpectrogram(sample_rate, win_length, win_length, hop_length, fmin, fmax, n_mels=n_mels, norm='slaney')\n",
    "spec = mel_tf(audio)\n",
    "plot_spectrogram(spec)\n",
    "spec.shape, spec.min(), spec.max()"
   ]
  },
  {
   "cell_type": "code",
   "execution_count": null,
   "metadata": {},
   "outputs": [],
   "source": [
    "## Log-mel Spectrogram\n",
    "logspec = 10.0 * spec.log10()\n",
    "plot_spectrogram(logspec)"
   ]
  },
  {
   "cell_type": "code",
   "execution_count": null,
   "metadata": {},
   "outputs": [],
   "source": [
    "## Time Masking\n",
    "tmasking = TimeMasking(200, audio_length)\n",
    "tspec = tmasking(spec)\n",
    "plot_spectrogram(tspec)"
   ]
  },
  {
   "cell_type": "code",
   "execution_count": null,
   "metadata": {},
   "outputs": [],
   "source": [
    "## Frequency Masking\n",
    "fmasking = FrequencyMasking(24, n_mels)\n",
    "fspec = fmasking(spec)\n",
    "plot_spectrogram(fspec)"
   ]
  },
  {
   "cell_type": "code",
   "execution_count": null,
   "metadata": {},
   "outputs": [],
   "source": [
    "## Filter Augment\n",
    "filteraug = FilterAugment((-20, 20), (5, 10))\n",
    "filtspec = filteraug(spec)\n",
    "plot_spectrogram(spec)\n",
    "plot_spectrogram(filtspec)"
   ]
  },
  {
   "cell_type": "code",
   "execution_count": null,
   "metadata": {},
   "outputs": [],
   "source": []
  }
 ],
 "metadata": {
  "interpreter": {
   "hash": "78184fe1b8a3f830767e8814b2b01c36fc7c8ac521e39cb583cd3fce210fee57"
  },
  "kernelspec": {
   "display_name": "Python 3",
   "language": "python",
   "name": "python3"
  },
  "language_info": {
   "codemirror_mode": {
    "name": "ipython",
    "version": 3
   },
   "file_extension": ".py",
   "mimetype": "text/x-python",
   "name": "python",
   "nbconvert_exporter": "python",
   "pygments_lexer": "ipython3",
   "version": "3.9.5"
  }
 },
 "nbformat": 4,
 "nbformat_minor": 2
}
